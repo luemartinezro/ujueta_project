{
 "cells": [
  {
   "cell_type": "code",
   "execution_count": 2,
   "id": "df02f42a-2add-419d-abd5-2b25a3b7f9ea",
   "metadata": {},
   "outputs": [
    {
     "name": "stdout",
     "output_type": "stream",
     "text": [
      "Collecting psycopg2\n",
      "  Using cached psycopg2-2.9.10-cp312-cp312-linux_x86_64.whl\n",
      "Installing collected packages: psycopg2\n",
      "Successfully installed psycopg2-2.9.10\n"
     ]
    }
   ],
   "source": [
    "#!pip install psycopg2\n"
   ]
  },
  {
   "cell_type": "code",
   "execution_count": 3,
   "id": "f38ab8d7-79c7-4055-bc97-5a0ba5c0e751",
   "metadata": {},
   "outputs": [
    {
     "name": "stdout",
     "output_type": "stream",
     "text": [
      "Connection established successfully\n"
     ]
    }
   ],
   "source": [
    "import psycopg2\n",
    "import pandas as pd\n",
    "import csv\n",
    "\n",
    "### verify the conexion\n",
    "try:\n",
    "    # Connect to the database\n",
    "    conn = psycopg2.connect(\n",
    "        host=\"pg.ujueta.com\",\n",
    "        port=\"5432\",\n",
    "        user=\"consultoria\",\n",
    "        password=\"LmKTXJBXya!14]f9!2k]\",\n",
    "        database=\"postgres\",\n",
    "    )\n",
    "except psycopg2.Error as e:\n",
    "    print(\"Error connecting to the database:\")\n",
    "    print(e)\n",
    "else:\n",
    "    print(\"Connection established successfully\")"
   ]
  },
  {
   "cell_type": "code",
   "execution_count": 4,
   "id": "51831b60-da28-4b74-9c6b-8521be96ebb6",
   "metadata": {},
   "outputs": [],
   "source": [
    "\n",
    "### ventas diario apiladas\n",
    "def export_forecast_to_csv():\n",
    "    try:\n",
    "        # connect to the database\n",
    "        conn = psycopg2.connect(\n",
    "            host=\"pg.ujueta.com\",\n",
    "            port=\"5432\",\n",
    "            user=\"consultoria\",\n",
    "            password=\"LmKTXJBXya!14]f9!2k]\",\n",
    "            database=\"postgres\",\n",
    "        )\n",
    "\n",
    "        # create cursor\n",
    "        with conn.cursor() as cur:\n",
    "\n",
    "            # ececute a sql query\n",
    "\n",
    "            cur.execute(\"SELECT * FROM forecast.ventas_diario\")\n",
    "\n",
    "            # fetch the results\n",
    "            results = cur.fetchall()\n",
    "\n",
    "            # open a file in the downloads folder\n",
    "\n",
    "            with open(\n",
    "                \"/home/usuario/Escritorio/Consultorias_Empresariales/Ujueta/Datos/outputs.csv\",\n",
    "                \"w\",\n",
    "                newline=\"\",\n",
    "            ) as f:\n",
    "                # create a csv writer\n",
    "                writer = csv.writer(f)\n",
    "\n",
    "                # write the column names\n",
    "                writer.writerow([col[0] for col in cur.description])\n",
    "\n",
    "                # write the query results\n",
    "                writer.writerows(results)\n",
    "    except Exception as e:\n",
    "        print(f\"An error ocurred: {e}\")\n",
    "    finally:\n",
    "        # close the cursor and connection\n",
    "        if conn:\n",
    "            conn.close()\n",
    "\n",
    "\n",
    "# Call the function to export data to csv\n",
    "export_forecast_to_csv()\n"
   ]
  },
  {
   "cell_type": "code",
   "execution_count": 8,
   "id": "6d82327d-ec56-4301-a434-4f9927b72495",
   "metadata": {},
   "outputs": [
    {
     "data": {
      "text/html": [
       "<div>\n",
       "<style scoped>\n",
       "    .dataframe tbody tr th:only-of-type {\n",
       "        vertical-align: middle;\n",
       "    }\n",
       "\n",
       "    .dataframe tbody tr th {\n",
       "        vertical-align: top;\n",
       "    }\n",
       "\n",
       "    .dataframe thead th {\n",
       "        text-align: right;\n",
       "    }\n",
       "</style>\n",
       "<table border=\"1\" class=\"dataframe\">\n",
       "  <thead>\n",
       "    <tr style=\"text-align: right;\">\n",
       "      <th></th>\n",
       "      <th>docdate</th>\n",
       "      <th>codigo_articulo</th>\n",
       "      <th>cantidad</th>\n",
       "    </tr>\n",
       "  </thead>\n",
       "  <tbody>\n",
       "    <tr>\n",
       "      <th>0</th>\n",
       "      <td>2022-01-03</td>\n",
       "      <td>AUACALR4</td>\n",
       "      <td>1</td>\n",
       "    </tr>\n",
       "    <tr>\n",
       "      <th>1</th>\n",
       "      <td>2022-01-03</td>\n",
       "      <td>AUACCH1</td>\n",
       "      <td>5</td>\n",
       "    </tr>\n",
       "    <tr>\n",
       "      <th>2</th>\n",
       "      <td>2022-01-03</td>\n",
       "      <td>AUACPB400</td>\n",
       "      <td>1</td>\n",
       "    </tr>\n",
       "    <tr>\n",
       "      <th>3</th>\n",
       "      <td>2022-01-03</td>\n",
       "      <td>AUACRIM4F</td>\n",
       "      <td>5</td>\n",
       "    </tr>\n",
       "    <tr>\n",
       "      <th>4</th>\n",
       "      <td>2022-01-03</td>\n",
       "      <td>AUACSH1000</td>\n",
       "      <td>3</td>\n",
       "    </tr>\n",
       "  </tbody>\n",
       "</table>\n",
       "</div>"
      ],
      "text/plain": [
       "      docdate codigo_articulo  cantidad\n",
       "0  2022-01-03        AUACALR4         1\n",
       "1  2022-01-03         AUACCH1         5\n",
       "2  2022-01-03       AUACPB400         1\n",
       "3  2022-01-03       AUACRIM4F         5\n",
       "4  2022-01-03      AUACSH1000         3"
      ]
     },
     "execution_count": 8,
     "metadata": {},
     "output_type": "execute_result"
    }
   ],
   "source": [
    "\n",
    "\n",
    "### manipulate data\n",
    "\n",
    "import pandas as pd\n",
    "\n",
    "# carga de datas\n",
    "data = pd.read_csv(\n",
    "    \"/home/usuario/Escritorio/Consultorias_Empresariales/Ujueta/Datos/outputs.csv\"\n",
    ")\n",
    "# convertir en dataframe\n",
    "df = pd.DataFrame(data)\n",
    "df.head()"
   ]
  },
  {
   "cell_type": "code",
   "execution_count": 17,
   "id": "a70e93e4-ca8b-4010-a9c3-3d539c404ef2",
   "metadata": {},
   "outputs": [
    {
     "data": {
      "text/plain": [
       "(87005, 3)"
      ]
     },
     "execution_count": 17,
     "metadata": {},
     "output_type": "execute_result"
    }
   ],
   "source": [
    "df.shape"
   ]
  },
  {
   "cell_type": "code",
   "execution_count": 15,
   "id": "5f95e9bf-455a-476c-88de-ed0261cfffd4",
   "metadata": {},
   "outputs": [],
   "source": [
    "# List of SKUs to filter\n",
    "selected_skus = [\n",
    "    'AUACAE30', 'AUACPB400', 'AUACRIM4F', 'AUACSH1000', 'HEELAG1141',\n",
    "    'HEELAG1142KIT', 'HEELPW1770', 'HEELXID20', 'HEFUFCD12KIT',\n",
    "    'HEFUFCD21', 'HEFUFD52', 'HEFUFG71', 'SOELCSVM501', 'SOELCSVM530',\n",
    "    'SOELSI6140DV', 'SOFUFW181', 'SOFUFW185', 'SOFUFW33', 'SOFUFW35',\n",
    "    'SOSWP2-517'\n",
    "]\n",
    "\n",
    "# Filter the dataset\n",
    "filtered_df = df[df['codigo_articulo'].isin(selected_skus)]"
   ]
  },
  {
   "cell_type": "code",
   "execution_count": 16,
   "id": "320f2b95-b56d-4ad6-9a9a-1da5d3b84764",
   "metadata": {},
   "outputs": [
    {
     "name": "stdout",
     "output_type": "stream",
     "text": [
      "          docdate codigo_articulo  cantidad\n",
      "2      2022-01-03       AUACPB400         1\n",
      "3      2022-01-03       AUACRIM4F         5\n",
      "4      2022-01-03      AUACSH1000         3\n",
      "10     2022-01-03      HEELAG1141        56\n",
      "22     2022-01-03      HEELPW1770         4\n",
      "...           ...             ...       ...\n",
      "86951  2024-11-13    SOELSI6140DV        88\n",
      "86965  2024-11-13       SOFUFW181         9\n",
      "86969  2024-11-13        SOFUFW33         9\n",
      "86970  2024-11-13        SOFUFW35         4\n",
      "87001  2024-11-13      SOSWP2-517         4\n",
      "\n",
      "[13060 rows x 3 columns]\n"
     ]
    }
   ],
   "source": [
    "print(filtered_df)"
   ]
  },
  {
   "cell_type": "code",
   "execution_count": 18,
   "id": "47bce2aa-ab0f-4a8e-a0d2-eddc3c29f7d3",
   "metadata": {},
   "outputs": [
    {
     "data": {
      "text/html": [
       "<div>\n",
       "<style scoped>\n",
       "    .dataframe tbody tr th:only-of-type {\n",
       "        vertical-align: middle;\n",
       "    }\n",
       "\n",
       "    .dataframe tbody tr th {\n",
       "        vertical-align: top;\n",
       "    }\n",
       "\n",
       "    .dataframe thead th {\n",
       "        text-align: right;\n",
       "    }\n",
       "</style>\n",
       "<table border=\"1\" class=\"dataframe\">\n",
       "  <thead>\n",
       "    <tr style=\"text-align: right;\">\n",
       "      <th></th>\n",
       "      <th>docdate</th>\n",
       "      <th>codigo_articulo</th>\n",
       "      <th>cantidad</th>\n",
       "    </tr>\n",
       "  </thead>\n",
       "  <tbody>\n",
       "    <tr>\n",
       "      <th>26811</th>\n",
       "      <td>2023-01-02</td>\n",
       "      <td>HEELAG1141</td>\n",
       "      <td>5</td>\n",
       "    </tr>\n",
       "    <tr>\n",
       "      <th>26827</th>\n",
       "      <td>2023-01-02</td>\n",
       "      <td>HEFUFCD12KIT</td>\n",
       "      <td>212</td>\n",
       "    </tr>\n",
       "    <tr>\n",
       "      <th>26828</th>\n",
       "      <td>2023-01-02</td>\n",
       "      <td>HEFUFCD21</td>\n",
       "      <td>4</td>\n",
       "    </tr>\n",
       "    <tr>\n",
       "      <th>26830</th>\n",
       "      <td>2023-01-02</td>\n",
       "      <td>HEFUFD52</td>\n",
       "      <td>14</td>\n",
       "    </tr>\n",
       "    <tr>\n",
       "      <th>26831</th>\n",
       "      <td>2023-01-02</td>\n",
       "      <td>HEFUFG71</td>\n",
       "      <td>1</td>\n",
       "    </tr>\n",
       "    <tr>\n",
       "      <th>...</th>\n",
       "      <td>...</td>\n",
       "      <td>...</td>\n",
       "      <td>...</td>\n",
       "    </tr>\n",
       "    <tr>\n",
       "      <th>86951</th>\n",
       "      <td>2024-11-13</td>\n",
       "      <td>SOELSI6140DV</td>\n",
       "      <td>88</td>\n",
       "    </tr>\n",
       "    <tr>\n",
       "      <th>86965</th>\n",
       "      <td>2024-11-13</td>\n",
       "      <td>SOFUFW181</td>\n",
       "      <td>9</td>\n",
       "    </tr>\n",
       "    <tr>\n",
       "      <th>86969</th>\n",
       "      <td>2024-11-13</td>\n",
       "      <td>SOFUFW33</td>\n",
       "      <td>9</td>\n",
       "    </tr>\n",
       "    <tr>\n",
       "      <th>86970</th>\n",
       "      <td>2024-11-13</td>\n",
       "      <td>SOFUFW35</td>\n",
       "      <td>4</td>\n",
       "    </tr>\n",
       "    <tr>\n",
       "      <th>87001</th>\n",
       "      <td>2024-11-13</td>\n",
       "      <td>SOSWP2-517</td>\n",
       "      <td>4</td>\n",
       "    </tr>\n",
       "  </tbody>\n",
       "</table>\n",
       "<p>8739 rows × 3 columns</p>\n",
       "</div>"
      ],
      "text/plain": [
       "          docdate codigo_articulo  cantidad\n",
       "26811  2023-01-02      HEELAG1141         5\n",
       "26827  2023-01-02    HEFUFCD12KIT       212\n",
       "26828  2023-01-02       HEFUFCD21         4\n",
       "26830  2023-01-02        HEFUFD52        14\n",
       "26831  2023-01-02        HEFUFG71         1\n",
       "...           ...             ...       ...\n",
       "86951  2024-11-13    SOELSI6140DV        88\n",
       "86965  2024-11-13       SOFUFW181         9\n",
       "86969  2024-11-13        SOFUFW33         9\n",
       "86970  2024-11-13        SOFUFW35         4\n",
       "87001  2024-11-13      SOSWP2-517         4\n",
       "\n",
       "[8739 rows x 3 columns]"
      ]
     },
     "execution_count": 18,
     "metadata": {},
     "output_type": "execute_result"
    }
   ],
   "source": [
    "data_highdda = filtered_df[filtered_df['docdate'] >= '2023-01-01']\n",
    "data_highdda"
   ]
  },
  {
   "cell_type": "code",
   "execution_count": 21,
   "id": "a7b03f02-19da-4193-b148-58c131600861",
   "metadata": {},
   "outputs": [
    {
     "name": "stdout",
     "output_type": "stream",
     "text": [
      "<class 'pandas.core.frame.DataFrame'>\n",
      "Index: 8739 entries, 26811 to 87001\n",
      "Data columns (total 3 columns):\n",
      " #   Column     Non-Null Count  Dtype \n",
      "---  ------     --------------  ----- \n",
      " 0   ds         8739 non-null   object\n",
      " 1   y          8739 non-null   int64 \n",
      " 2   unique_id  8739 non-null   object\n",
      "dtypes: int64(1), object(2)\n",
      "memory usage: 273.1+ KB\n"
     ]
    },
    {
     "name": "stderr",
     "output_type": "stream",
     "text": [
      "/tmp/ipykernel_9755/2607030314.py:9: SettingWithCopyWarning: \n",
      "A value is trying to be set on a copy of a slice from a DataFrame\n",
      "\n",
      "See the caveats in the documentation: https://pandas.pydata.org/pandas-docs/stable/user_guide/indexing.html#returning-a-view-versus-a-copy\n",
      "  df_m.rename(columns={date : 'ds', y :'y'}, inplace=True)\n"
     ]
    }
   ],
   "source": [
    "#========================================================================================================================================\n",
    "# Ajuste de Datos para statsforecast\n",
    "#========================================================================================================================================\n",
    "\n",
    "#-- Dato de ejemplo para función\n",
    "\n",
    "def data_sf(df=data_highdda, date = 'docdate', y = 'cantidad'):\n",
    "    df_m = df[[date, y]]\n",
    "    df_m.rename(columns={date : 'ds', y :'y'}, inplace=True)\n",
    "    df_m['unique_id'] = 'codigo_articulo'\n",
    "    return df_m\n",
    "\n",
    "df_m = data_sf(df=data_highdda, date = 'docdate', y = 'cantidad')\n",
    "df_m\n",
    "df_m.info()"
   ]
  },
  {
   "cell_type": "code",
   "execution_count": 22,
   "id": "855a821b-d009-40e9-be74-12e15a3c1a2c",
   "metadata": {},
   "outputs": [],
   "source": [
    "#========================================================================================================================================\n",
    "# Colección de modelos\n",
    "#========================================================================================================================================\n",
    "from statsforecast import StatsForecast #- Para instanciar los  modelos\n",
    "\n",
    "from statsforecast.models import (\n",
    "    AutoARIMA,\n",
    "    AutoETS,\n",
    "    HoltWinters,\n",
    "    ADIDA,\n",
    "    CrostonClassic as Croston, \n",
    "    IMAPA,\n",
    "    TSB,\n",
    "    HistoricAverage,\n",
    "    DynamicOptimizedTheta as DOT,\n",
    "    SeasonalNaive\n",
    ")\n",
    "\n",
    "#-- Parametros\n",
    "\n",
    "# Número de días en el futuro a pronosticar\n",
    "horizon = 30\n",
    "# Ventana estacional: es 7 porque tenemos datos diarios\n",
    "season_length = 7\n",
    "# El número de dias que el modelo usará para hacer el forecast \n",
    "window_size = 6*30\n",
    "\n",
    "# Lista de modelos a evaluar\n",
    "models = [\n",
    "    AutoARIMA(season_length=season_length),\n",
    "    AutoETS(season_length=season_length),\n",
    "    HoltWinters(season_length=season_length),\n",
    "    ADIDA(),\n",
    "    Croston(),\n",
    "    IMAPA(),\n",
    "    TSB(alpha_d = 0.2, alpha_p = 0.2),\n",
    "    SeasonalNaive(season_length=season_length),\n",
    "    HistoricAverage(),\n",
    "    DOT(season_length=season_length)\n",
    "]"
   ]
  },
  {
   "cell_type": "code",
   "execution_count": 23,
   "id": "ad5bc5e8-3920-43b8-8a3d-74e89a23f2b7",
   "metadata": {},
   "outputs": [],
   "source": [
    "# StatsForecast.plot(df_m)\n",
    "\n",
    "# Instanciando StatsForecast como sf\n",
    "sf = StatsForecast( \n",
    "    models=models,\n",
    "    freq='D', \n",
    "    n_jobs=-1,\n",
    ")\n"
   ]
  },
  {
   "cell_type": "code",
   "execution_count": null,
   "id": "43261e48-5e32-4936-953e-55b11ec6639b",
   "metadata": {},
   "outputs": [],
   "source": [
    "# Cross Validation\n",
    "from functools import partial\n",
    "from utilsforecast.evaluation import evaluate\n",
    "from utilsforecast.losses import mape, mase, mse, smape\n",
    "\n",
    "crossvaldation_df = sf.cross_validation(\n",
    "    df=df_m,\n",
    "    h=horizon,\n",
    "    step_size=horizon,\n",
    "    n_windows=3\n",
    ")\n",
    "\n",
    "crossvaldation_df.head()"
   ]
  },
  {
   "cell_type": "code",
   "execution_count": null,
   "id": "10e0fe29-8627-452d-be78-b09c58238a1d",
   "metadata": {},
   "outputs": [],
   "source": [
    "def evaluate_cross_validation(df, metric):\n",
    "    models = df.drop(columns=['unique_id', 'ds', 'cutoff', 'y'], errors='ignore').columns.tolist()\n",
    "    evals = []\n",
    "    # Calculate loss for every unique_id and cutoff.    \n",
    "    for cutoff in df['cutoff'].unique():\n",
    "        eval_ = evaluate(df[df['cutoff'] == cutoff], metrics=[metric], models=models)\n",
    "        evals.append(eval_)\n",
    "    evals = pd.concat(evals)\n",
    "    evals = evals.groupby('unique_id').mean(numeric_only=True) # Averages the error metrics for all cutoffs for every combination of model and unique_id\n",
    "    evals['best_model'] = evals.idxmin(axis=1)\n",
    "    return evals\n",
    "\n",
    "evaluation_df = evaluate_cross_validation(crossvaldation_df.reset_index(drop=False), smape)\n",
    "evaluation_df.head()"
   ]
  },
  {
   "cell_type": "code",
   "execution_count": null,
   "id": "d0268e35-2ce4-4ce6-a15d-e2f325610950",
   "metadata": {},
   "outputs": [],
   "source": [
    "#--- Selección del mejor modelo\n",
    "fcst_df = sf.forecast(df=df_m, \n",
    "                      h=horizon, \n",
    "                      ## level=[90]\n",
    "                     )\n",
    "fcst_df.head()"
   ]
  },
  {
   "cell_type": "code",
   "execution_count": null,
   "id": "297fdf3d-4b7a-41ad-b84f-a46d9981cd33",
   "metadata": {},
   "outputs": [],
   "source": [
    "sf.plot(df_m,fcst_df)"
   ]
  },
  {
   "cell_type": "code",
   "execution_count": null,
   "id": "52353c83-518f-4092-85fd-708580e8487c",
   "metadata": {},
   "outputs": [],
   "source": [
    "def get_best_model_forecast(forecasts_df, evaluation_df):\n",
    "    col_bm = evaluation_df['best_model'].values[0]\n",
    "    df = forecasts_df[col_bm] # Wide to long \n",
    "    df = df.reset_index(drop=False)\n",
    "    df.columns = ['unique_id', 'best_model']\n",
    "    return df\n",
    "\n",
    "prod_forecasts_df = get_best_model_forecast(forecasts_df = fcst_df, \n",
    "                                            evaluation_df = evaluation_df)\n",
    "prod_forecasts_df.head()"
   ]
  },
  {
   "cell_type": "code",
   "execution_count": null,
   "id": "5aa875ec-f8ae-47fb-afef-b67df30c5112",
   "metadata": {},
   "outputs": [],
   "source": []
  },
  {
   "cell_type": "code",
   "execution_count": null,
   "id": "f3441330-bcd6-40b1-a812-e3c3db614e7c",
   "metadata": {},
   "outputs": [],
   "source": []
  }
 ],
 "metadata": {
  "kernelspec": {
   "display_name": "Python 3 (ipykernel)",
   "language": "python",
   "name": "python3"
  },
  "language_info": {
   "codemirror_mode": {
    "name": "ipython",
    "version": 3
   },
   "file_extension": ".py",
   "mimetype": "text/x-python",
   "name": "python",
   "nbconvert_exporter": "python",
   "pygments_lexer": "ipython3",
   "version": "3.12.3"
  }
 },
 "nbformat": 4,
 "nbformat_minor": 5
}
