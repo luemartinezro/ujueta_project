{
 "cells": [
  {
   "cell_type": "code",
   "execution_count": 7,
   "id": "1c50897c-4bb7-4324-90a6-87ec86b907b0",
   "metadata": {},
   "outputs": [
    {
     "ename": "ModuleNotFoundError",
     "evalue": "No module named 'skforecast.ForecasterAutoreg'",
     "output_type": "error",
     "traceback": [
      "\u001b[0;31m---------------------------------------------------------------------------\u001b[0m",
      "\u001b[0;31mModuleNotFoundError\u001b[0m                       Traceback (most recent call last)",
      "Cell \u001b[0;32mIn[7], line 14\u001b[0m\n\u001b[1;32m     10\u001b[0m \u001b[38;5;28;01mfrom\u001b[39;00m \u001b[38;5;21;01mskforecast\u001b[39;00m\u001b[38;5;21;01m.\u001b[39;00m\u001b[38;5;21;01mpreprocessing\u001b[39;00m \u001b[38;5;28;01mimport\u001b[39;00m exog_long_to_dict\n\u001b[1;32m     11\u001b[0m \u001b[38;5;66;03m#from skforecast.ForecasterAutoregMultiSeries import ForecasterAutoregMultiSeries\u001b[39;00m\n\u001b[1;32m     12\u001b[0m \u001b[38;5;66;03m#from skforecast.model_selection_multiseries import backtesting_forecaster_multiseries\u001b[39;00m\n\u001b[1;32m     13\u001b[0m \u001b[38;5;66;03m#from skforecast.model_selection_multiseries import bayesian_search_forecaster_multiseries\u001b[39;00m\n\u001b[0;32m---> 14\u001b[0m \u001b[38;5;28;01mfrom\u001b[39;00m \u001b[38;5;21;01mskforecast\u001b[39;00m\u001b[38;5;21;01m.\u001b[39;00m\u001b[38;5;21;01mForecasterAutoreg\u001b[39;00m \u001b[38;5;28;01mimport\u001b[39;00m ForecasterAutoregMultiSeries\n\u001b[1;32m     15\u001b[0m \u001b[38;5;28;01mfrom\u001b[39;00m \u001b[38;5;21;01mskforecast\u001b[39;00m\u001b[38;5;21;01m.\u001b[39;00m\u001b[38;5;21;01mmulti_series\u001b[39;00m \u001b[38;5;28;01mimport\u001b[39;00m ForecasterAutoregMultiSeries\n",
      "\u001b[0;31mModuleNotFoundError\u001b[0m: No module named 'skforecast.ForecasterAutoreg'"
     ]
    }
   ],
   "source": [
    "# Libraries\n",
    "# ==============================================================================\n",
    "import numpy as np\n",
    "import pandas as pd\n",
    "import matplotlib.pyplot as plt\n",
    "from lightgbm import LGBMRegressor\n",
    "\n",
    "from skforecast.plot import set_dark_theme\n",
    "from skforecast.preprocessing import series_long_to_dict\n",
    "from skforecast.preprocessing import exog_long_to_dict\n",
    "#from skforecast.ForecasterAutoregMultiSeries import ForecasterAutoregMultiSeries\n",
    "#from skforecast.model_selection_multiseries import backtesting_forecaster_multiseries\n",
    "#from skforecast.model_selection_multiseries import bayesian_search_forecaster_multiseries\n",
    "from skforecast.ForecasterAutoreg import ForecasterAutoregMultiSeries\n",
    "from skforecast.multi_series import ForecasterAutoregMultiSeries\n"
   ]
  },
  {
   "cell_type": "markdown",
   "id": "186556c7-73c5-4238-ac68-c2812f6db9b9",
   "metadata": {},
   "source": [
    "https://skforecast.org/0.13.0/user_guides/multi-series-with-different-length-and-different_exog\n",
    "https://nixtlaverse.nixtla.io/statsforecast/docs/how-to-guides/exogenous.html"
   ]
  },
  {
   "cell_type": "code",
   "execution_count": 6,
   "id": "a93d2524-3c73-4d28-9336-a12e0bd686e6",
   "metadata": {},
   "outputs": [
    {
     "name": "stdout",
     "output_type": "stream",
     "text": [
      "Requirement already satisfied: skforecast in /home/usuario/myenv/lib/python3.12/site-packages (0.14.0)\n",
      "Requirement already satisfied: numpy>=1.22 in /home/usuario/myenv/lib/python3.12/site-packages (from skforecast) (1.26.4)\n",
      "Requirement already satisfied: pandas>=1.5 in /home/usuario/myenv/lib/python3.12/site-packages (from skforecast) (2.2.3)\n",
      "Requirement already satisfied: tqdm>=4.57 in /home/usuario/myenv/lib/python3.12/site-packages (from skforecast) (4.67.0)\n",
      "Requirement already satisfied: scikit-learn>=1.2 in /home/usuario/myenv/lib/python3.12/site-packages (from skforecast) (1.5.2)\n",
      "Requirement already satisfied: optuna>=2.10 in /home/usuario/myenv/lib/python3.12/site-packages (from skforecast) (4.2.0)\n",
      "Requirement already satisfied: joblib>=1.1 in /home/usuario/myenv/lib/python3.12/site-packages (from skforecast) (1.4.2)\n",
      "Requirement already satisfied: numba>=0.59 in /home/usuario/myenv/lib/python3.12/site-packages (from skforecast) (0.60.0)\n",
      "Requirement already satisfied: llvmlite<0.44,>=0.43.0dev0 in /home/usuario/myenv/lib/python3.12/site-packages (from numba>=0.59->skforecast) (0.43.0)\n",
      "Requirement already satisfied: alembic>=1.5.0 in /home/usuario/myenv/lib/python3.12/site-packages (from optuna>=2.10->skforecast) (1.14.1)\n",
      "Requirement already satisfied: colorlog in /home/usuario/myenv/lib/python3.12/site-packages (from optuna>=2.10->skforecast) (6.9.0)\n",
      "Requirement already satisfied: packaging>=20.0 in /home/usuario/myenv/lib/python3.12/site-packages (from optuna>=2.10->skforecast) (24.2)\n",
      "Requirement already satisfied: sqlalchemy>=1.4.2 in /home/usuario/myenv/lib/python3.12/site-packages (from optuna>=2.10->skforecast) (2.0.37)\n",
      "Requirement already satisfied: PyYAML in /home/usuario/myenv/lib/python3.12/site-packages (from optuna>=2.10->skforecast) (6.0.2)\n",
      "Requirement already satisfied: python-dateutil>=2.8.2 in /home/usuario/myenv/lib/python3.12/site-packages (from pandas>=1.5->skforecast) (2.9.0.post0)\n",
      "Requirement already satisfied: pytz>=2020.1 in /home/usuario/myenv/lib/python3.12/site-packages (from pandas>=1.5->skforecast) (2024.2)\n",
      "Requirement already satisfied: tzdata>=2022.7 in /home/usuario/myenv/lib/python3.12/site-packages (from pandas>=1.5->skforecast) (2024.2)\n",
      "Requirement already satisfied: scipy>=1.6.0 in /home/usuario/myenv/lib/python3.12/site-packages (from scikit-learn>=1.2->skforecast) (1.14.1)\n",
      "Requirement already satisfied: threadpoolctl>=3.1.0 in /home/usuario/myenv/lib/python3.12/site-packages (from scikit-learn>=1.2->skforecast) (3.5.0)\n",
      "Requirement already satisfied: Mako in /home/usuario/myenv/lib/python3.12/site-packages (from alembic>=1.5.0->optuna>=2.10->skforecast) (1.3.8)\n",
      "Requirement already satisfied: typing-extensions>=4 in /home/usuario/myenv/lib/python3.12/site-packages (from alembic>=1.5.0->optuna>=2.10->skforecast) (4.12.2)\n",
      "Requirement already satisfied: six>=1.5 in /home/usuario/myenv/lib/python3.12/site-packages (from python-dateutil>=2.8.2->pandas>=1.5->skforecast) (1.16.0)\n",
      "Requirement already satisfied: greenlet!=0.4.17 in /home/usuario/myenv/lib/python3.12/site-packages (from sqlalchemy>=1.4.2->optuna>=2.10->skforecast) (3.1.1)\n",
      "Requirement already satisfied: MarkupSafe>=0.9.2 in /home/usuario/myenv/lib/python3.12/site-packages (from Mako->alembic>=1.5.0->optuna>=2.10->skforecast) (2.1.5)\n"
     ]
    }
   ],
   "source": [
    "#!pip install skforecast\n",
    "!pip install --upgrade skforecast\n"
   ]
  },
  {
   "cell_type": "code",
   "execution_count": null,
   "id": "a03c5ac5-5a9e-4d9a-b27e-88110b6f31c0",
   "metadata": {},
   "outputs": [],
   "source": []
  }
 ],
 "metadata": {
  "kernelspec": {
   "display_name": "Python 3 (ipykernel)",
   "language": "python",
   "name": "python3"
  },
  "language_info": {
   "codemirror_mode": {
    "name": "ipython",
    "version": 3
   },
   "file_extension": ".py",
   "mimetype": "text/x-python",
   "name": "python",
   "nbconvert_exporter": "python",
   "pygments_lexer": "ipython3",
   "version": "3.12.3"
  }
 },
 "nbformat": 4,
 "nbformat_minor": 5
}
