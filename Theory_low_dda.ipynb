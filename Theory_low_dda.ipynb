{
 "cells": [
  {
   "cell_type": "code",
   "execution_count": null,
   "id": "9ed2d31a-1259-4165-8e94-3323676cb4c4",
   "metadata": {},
   "outputs": [],
   "source": []
  },
  {
   "cell_type": "markdown",
   "id": "c1dd0fd2-8864-402d-a802-ea692ad59a8d",
   "metadata": {},
   "source": [
    "1. Event-Based Modeling\n",
    "Focus on modeling only the non-zero events and their occurrence patterns. The model can predict:\n",
    "\n",
    "When the next event will occur (inter-arrival times).\n",
    "What the magnitude of the event will be.\n",
    "\n",
    "Approach:\n",
    "\n",
    "Use Poisson regression or Negative Binomial regression for count data.\n",
    "Use survival analysis or hazard models for inter-event times.\n"
   ]
  },
  {
   "cell_type": "code",
   "execution_count": 10,
   "id": "b39f1f1e-10cb-4cfa-997e-b708e5fa694f",
   "metadata": {},
   "outputs": [
    {
     "data": {
      "text/html": [
       "<div>\n",
       "<style scoped>\n",
       "    .dataframe tbody tr th:only-of-type {\n",
       "        vertical-align: middle;\n",
       "    }\n",
       "\n",
       "    .dataframe tbody tr th {\n",
       "        vertical-align: top;\n",
       "    }\n",
       "\n",
       "    .dataframe thead th {\n",
       "        text-align: right;\n",
       "    }\n",
       "</style>\n",
       "<table border=\"1\" class=\"dataframe\">\n",
       "  <thead>\n",
       "    <tr style=\"text-align: right;\">\n",
       "      <th></th>\n",
       "      <th>date</th>\n",
       "      <th>value</th>\n",
       "      <th>days_since_start</th>\n",
       "    </tr>\n",
       "  </thead>\n",
       "  <tbody>\n",
       "    <tr>\n",
       "      <th>0</th>\n",
       "      <td>2022-01-01</td>\n",
       "      <td>10</td>\n",
       "      <td>0</td>\n",
       "    </tr>\n",
       "    <tr>\n",
       "      <th>1</th>\n",
       "      <td>2022-07-01</td>\n",
       "      <td>15</td>\n",
       "      <td>181</td>\n",
       "    </tr>\n",
       "    <tr>\n",
       "      <th>2</th>\n",
       "      <td>2023-01-01</td>\n",
       "      <td>20</td>\n",
       "      <td>365</td>\n",
       "    </tr>\n",
       "    <tr>\n",
       "      <th>3</th>\n",
       "      <td>2023-07-01</td>\n",
       "      <td>5</td>\n",
       "      <td>546</td>\n",
       "    </tr>\n",
       "  </tbody>\n",
       "</table>\n",
       "</div>"
      ],
      "text/plain": [
       "        date  value  days_since_start\n",
       "0 2022-01-01     10                 0\n",
       "1 2022-07-01     15               181\n",
       "2 2023-01-01     20               365\n",
       "3 2023-07-01      5               546"
      ]
     },
     "execution_count": 10,
     "metadata": {},
     "output_type": "execute_result"
    }
   ],
   "source": [
    "import pandas as pd\n",
    "from sklearn.linear_model import PoissonRegressor\n",
    "\n",
    "# Sparse data\n",
    "data = {\"date\": [\"2022-01-01\", \"2022-07-01\", \"2023-01-01\", \"2023-07-01\"],\n",
    "        \"value\": [10, 15, 20, 5]}\n",
    "df = pd.DataFrame(data)\n",
    "df[\"date\"] = pd.to_datetime(df[\"date\"])\n",
    "df[\"days_since_start\"] = (df[\"date\"] - df[\"date\"].min()).dt.days\n",
    "\n",
    "df\n"
   ]
  },
  {
   "cell_type": "code",
   "execution_count": 2,
   "id": "f24116f7-03ba-4a87-88f0-85a03980f95c",
   "metadata": {},
   "outputs": [
    {
     "name": "stdout",
     "output_type": "stream",
     "text": [
      "[10.19682694  9.88965128  9.46681161]\n"
     ]
    }
   ],
   "source": [
    "# Poisson regression for event magnitude\n",
    "X = df[[\"days_since_start\"]]\n",
    "y = df[\"value\"]\n",
    "\n",
    "model = PoissonRegressor().fit(X, y)\n",
    "\n",
    "# Predict future\n",
    "future_days = pd.DataFrame({\"days_since_start\": [730, 800, 900]})\n",
    "predictions = model.predict(future_days)\n",
    "print(predictions)"
   ]
  },
  {
   "cell_type": "markdown",
   "id": "60bbf713-50c4-4273-bd90-2c30bee6d7b0",
   "metadata": {},
   "source": [
    "2. Zero-Inflated Models\n",
    "For series with many zeros, use zero-inflated models:\n",
    "\n",
    "Combine a binary model for zero vs. non-zero events (e.g., logistic regression).\n",
    "Use a separate model for the magnitude of non-zero events (e.g., Poisson, Gamma).\n",
    "Libraries:\n",
    "statsmodels supports Zero-Inflated Poisson (ZIP) and Zero-Inflated Negative Binomial (ZINB) models.\n"
   ]
  },
  {
   "cell_type": "code",
   "execution_count": 3,
   "id": "cf6c42ac-2bb8-47b0-b45b-7ea87784f060",
   "metadata": {},
   "outputs": [
    {
     "name": "stdout",
     "output_type": "stream",
     "text": [
      "Optimization terminated successfully.\n",
      "         Current function value: 3.410703\n",
      "         Iterations 5\n",
      "                          Poisson Regression Results                          \n",
      "==============================================================================\n",
      "Dep. Variable:                  value   No. Observations:                    4\n",
      "Model:                        Poisson   Df Residuals:                        2\n",
      "Method:                           MLE   Df Model:                            1\n",
      "Date:                Sat, 07 Dec 2024   Pseudo R-squ.:                 0.01427\n",
      "Time:                        21:46:46   Log-Likelihood:                -13.643\n",
      "converged:                       True   LL-Null:                       -13.840\n",
      "Covariance Type:            nonrobust   LLR p-value:                    0.5296\n",
      "====================================================================================\n",
      "                       coef    std err          z      P>|z|      [0.025      0.975]\n",
      "------------------------------------------------------------------------------------\n",
      "Intercept            2.6411      0.227     11.640      0.000       2.196       3.086\n",
      "days_since_start    -0.0004      0.001     -0.628      0.530      -0.002       0.001\n",
      "====================================================================================\n"
     ]
    }
   ],
   "source": [
    "import statsmodels.api as sm\n",
    "import statsmodels.formula.api as smf\n",
    "\n",
    "# Data preparation\n",
    "df[\"non_zero\"] = (df[\"value\"] > 0).astype(int)\n",
    "\n",
    "# Fit Zero-Inflated Poisson\n",
    "model = smf.poisson(\"value ~ days_since_start\", data=df).fit()\n",
    "print(model.summary())\n"
   ]
  },
  {
   "cell_type": "code",
   "execution_count": 4,
   "id": "45402e0f-824c-4cee-a75f-cee6e61ef843",
   "metadata": {},
   "outputs": [
    {
     "data": {
      "text/plain": [
       "array([14.02810413, 12.96134631, 11.96002067, 11.05052889])"
      ]
     },
     "execution_count": 4,
     "metadata": {},
     "output_type": "execute_result"
    }
   ],
   "source": [
    "model.predict()"
   ]
  },
  {
   "cell_type": "markdown",
   "id": "90e8ba71-9858-4daf-b656-092b152158e3",
   "metadata": {},
   "source": [
    "3. Sparse Machine Learning Models\n",
    "Gradient Boosting (e.g., XGBoost, LightGBM): Handle sparsity well and can include exogenous features.\n",
    "Neural Networks (e.g., recurrent networks or transformers): Effective with additional context or embeddings.\n"
   ]
  },
  {
   "cell_type": "code",
   "execution_count": 5,
   "id": "5c421512-1cf8-49de-9e7f-95fa4a721085",
   "metadata": {},
   "outputs": [
    {
     "name": "stdout",
     "output_type": "stream",
     "text": [
      "[5.000454 5.000454 5.000454]\n"
     ]
    }
   ],
   "source": [
    "import xgboost as xgb\n",
    "\n",
    "# Sparse data as input\n",
    "X = df[[\"days_since_start\"]]\n",
    "y = df[\"value\"]\n",
    "\n",
    "# Train XGBoost\n",
    "model = xgb.XGBRegressor(objective=\"reg:squarederror\", n_estimators=100).fit(X, y)\n",
    "\n",
    "# Predict future\n",
    "future_days = pd.DataFrame({\"days_since_start\": [730, 800, 900]})\n",
    "predictions = model.predict(future_days)\n",
    "print(predictions)\n"
   ]
  },
  {
   "cell_type": "markdown",
   "id": "793f701b-c54f-4f0e-9b31-a40e8c105535",
   "metadata": {},
   "source": [
    "4. Time-to-Event (Survival Analysis)\n",
    "Model the time between non-zero events directly using survival analysis.\n",
    "\n",
    "Libraries:\n",
    "lifelines for Kaplan-Meier estimators or Cox proportional hazards.\n",
    "Code Example:"
   ]
  },
  {
   "cell_type": "code",
   "execution_count": 11,
   "id": "14e3f469-c9e0-438a-b693-2b62938ee7f0",
   "metadata": {},
   "outputs": [
    {
     "data": {
      "text/html": [
       "<div>\n",
       "<style scoped>\n",
       "    .dataframe tbody tr th:only-of-type {\n",
       "        vertical-align: middle;\n",
       "    }\n",
       "\n",
       "    .dataframe tbody tr th {\n",
       "        vertical-align: top;\n",
       "    }\n",
       "\n",
       "    .dataframe thead th {\n",
       "        text-align: right;\n",
       "    }\n",
       "</style>\n",
       "<table border=\"1\" class=\"dataframe\">\n",
       "  <thead>\n",
       "    <tr style=\"text-align: right;\">\n",
       "      <th></th>\n",
       "      <th>date</th>\n",
       "      <th>value</th>\n",
       "      <th>days_since_start</th>\n",
       "    </tr>\n",
       "  </thead>\n",
       "  <tbody>\n",
       "    <tr>\n",
       "      <th>0</th>\n",
       "      <td>2022-01-01</td>\n",
       "      <td>10</td>\n",
       "      <td>0</td>\n",
       "    </tr>\n",
       "    <tr>\n",
       "      <th>1</th>\n",
       "      <td>2022-07-01</td>\n",
       "      <td>15</td>\n",
       "      <td>181</td>\n",
       "    </tr>\n",
       "    <tr>\n",
       "      <th>2</th>\n",
       "      <td>2023-01-01</td>\n",
       "      <td>20</td>\n",
       "      <td>365</td>\n",
       "    </tr>\n",
       "    <tr>\n",
       "      <th>3</th>\n",
       "      <td>2023-07-01</td>\n",
       "      <td>5</td>\n",
       "      <td>546</td>\n",
       "    </tr>\n",
       "  </tbody>\n",
       "</table>\n",
       "</div>"
      ],
      "text/plain": [
       "        date  value  days_since_start\n",
       "0 2022-01-01     10                 0\n",
       "1 2022-07-01     15               181\n",
       "2 2023-01-01     20               365\n",
       "3 2023-07-01      5               546"
      ]
     },
     "execution_count": 11,
     "metadata": {},
     "output_type": "execute_result"
    }
   ],
   "source": [
    "df"
   ]
  },
  {
   "cell_type": "code",
   "execution_count": 6,
   "id": "03589f34-c066-42d7-8a62-4c6cbc696ff0",
   "metadata": {},
   "outputs": [],
   "source": [
    "#%pip install lifelines"
   ]
  },
  {
   "cell_type": "code",
   "execution_count": 14,
   "id": "a925d288-ae1f-48d1-929a-f10a7feb9070",
   "metadata": {},
   "outputs": [
    {
     "data": {
      "image/png": "[encoded data removed]",
      "text/plain": [
       "<Figure size 640x480 with 1 Axes>"
      ]
     },
     "metadata": {},
     "output_type": "display_data"
    },
    {
     "name": "stdout",
     "output_type": "stream",
     "text": [
      "Survival probabilities at [30, 80, 90]:\n",
      "30    1.0\n",
      "80    1.0\n",
      "90    1.0\n",
      "Name: KM_estimate, dtype: float64\n"
     ]
    }
   ],
   "source": [
    "from lifelines import KaplanMeierFitter\n",
    "import matplotlib.pyplot as plt\n",
    "# Fit Kaplan-Meier model\n",
    "kmf = KaplanMeierFitter()\n",
    "kmf.fit(df[\"date\"], event_observed=df[\"value\"])\n",
    "\n",
    "# Plot the survival function\n",
    "kmf.plot_survival_function()\n",
    "plt.title(\"Survival Function\")\n",
    "plt.show()\n",
    "\n",
    "# Predict survival probabilities at specific times\n",
    "time_points = [30, 80, 90]\n",
    "predictions = kmf.predict(time_points)\n",
    "\n",
    "print(f\"Survival probabilities at {time_points}:\")\n",
    "print(predictions)"
   ]
  },
  {
   "cell_type": "markdown",
   "id": "0ac0b076-0ddc-4e97-ba98-68edab31c69f",
   "metadata": {},
   "source": [
    "****"
   ]
  },
  {
   "cell_type": "markdown",
   "id": "c1e230bc-f442-4e95-a322-51f5d4064f08",
   "metadata": {},
   "source": [
    "## Why Use Bayesian Methods?\n",
    "Uncertainty Quantification: Provides a distribution for each prediction, not just a single value.\n",
    "\n",
    "Flexibility: Allows incorporation of prior knowledge (e.g., expected frequency of events, typical magnitude of non-zero values).\n",
    "\n",
    "Regularization: Avoids overfitting in sparse datasets by penalizing overly complex models through priors.\n",
    "\n",
    "Probabilistic Framework: Useful in decision-making processes where uncertainty is crucial.\n",
    "\n",
    "\n",
    "## Core Concepts\n",
    "Prior: Represents beliefs about model parameters before observing data.\n",
    "\n",
    "Example: If events are rare, assign a prior that most values will be zero.\n",
    "*Likelihood:* Represents the data given the model parameters.\n",
    "\n",
    "Example: Use a Poisson or Negative Binomial distribution for event counts.\n",
    "*Posterior:* Combines prior and likelihood using Bayes’ theorem:\n",
    "\n",
    "\n",
    "*P(parameters∣data)∝P(data∣parameters)⋅P(parameters)*\n",
    "\n",
    "Posterior Predictive Distribution: Generates predictions by sampling from the posterior.\n",
    "\n",
    "\n",
    "### Libraries for Bayesian Modeling\n",
    "PyMC: Probabilistic programming library for defining and fitting Bayesian models.\n",
    "Stan (via CmdStanPy or PyStan): Flexible for complex hierarchical models.\n",
    "Bayesian Ridge Regression in scikit-learn: Simpler Bayesian model."
   ]
  },
  {
   "cell_type": "code",
   "execution_count": 22,
   "id": "7b3cf9e8-2792-4a64-a127-9c4471fabbbc",
   "metadata": {},
   "outputs": [],
   "source": [
    "#%pip install pymc                       # problem with libraries not run\n",
    "#!pip install numpy==1.23.5"
   ]
  },
  {
   "cell_type": "code",
   "execution_count": null,
   "id": "21181718-b519-4f54-9ede-eefd773103da",
   "metadata": {},
   "outputs": [],
   "source": [
    "# Example 1: Bayesian Poisson Regression with PyMC\n",
    "\n",
    "import pymc as pm\n",
    "import numpy as np\n",
    "import pandas as pd\n",
    "\n",
    "# Sparse data: Days and event counts\n",
    "data = {\"days\": [0, 50, 100, 150, 200], \"counts\": [10, 0, 5, 0, 20]}\n",
    "df = pd.DataFrame(data)\n",
    "\n",
    "# Bayesian Poisson Regression\n",
    "with pm.Model() as model:\n",
    "    # Priors for coefficients\n",
    "    alpha = pm.Normal(\"alpha\", mu=0, sigma=10)\n",
    "    beta = pm.Normal(\"beta\", mu=0, sigma=10)\n",
    "    \n",
    "    # Linear model\n",
    "    lambda_ = pm.math.exp(alpha + beta * df[\"days\"])\n",
    "    \n",
    "    # Likelihood (Poisson distribution)\n",
    "    obs = pm.Poisson(\"obs\", mu=lambda_, observed=df[\"counts\"])\n",
    "    \n",
    "    # Sample from posterior\n",
    "    trace = pm.sample(1000, return_inferencedata=True)\n",
    "\n",
    "# Summarize results\n",
    "print(pm.summary(trace))\n",
    "\n"
   ]
  },
  {
   "cell_type": "code",
   "execution_count": null,
   "id": "268c0799-89f5-475d-adad-ef61ff78929e",
   "metadata": {},
   "outputs": [],
   "source": [
    "#Example 2: Bayesian Time-to-Event Model\n",
    "import pymc as pm\n",
    "import numpy as np\n",
    "\n",
    "# Sparse data: Time intervals between events\n",
    "time_intervals = [10, 30, 40, 20, 50]\n",
    "\n",
    "with pm.Model() as survival_model:\n",
    "    # Prior for event rate (lambda)\n",
    "    lambda_ = pm.Exponential(\"lambda\", 1.0)\n",
    "    \n",
    "    # Likelihood for time intervals (Exponential distribution)\n",
    "    observed = pm.Exponential(\"observed\", lam=lambda_, observed=time_intervals)\n",
    "    \n",
    "    # Posterior sampling\n",
    "    trace = pm.sample(1000, return_inferencedata=True)\n",
    "\n",
    "# Summarize posterior\n",
    "print(pm.summary(trace))\n",
    "\n",
    "# Posterior predictive sampling\n",
    "with survival_model:\n",
    "    posterior_predictive = pm.sample_posterior_predictive(trace)\n",
    "print(posterior_predictive[\"observed\"])\n",
    "\n"
   ]
  },
  {
   "cell_type": "code",
   "execution_count": null,
   "id": "ce826f78-c0a5-46b3-a3ea-7b1a6dd34a7f",
   "metadata": {},
   "outputs": [],
   "source": [
    "# Example 3: Probabilistic Forecasting - >Combine Bayesian regression and posterior predictive sampling for future predictions.\n",
    "\n",
    "\n",
    "import pymc as pm\n",
    "\n",
    "# Example data\n",
    "data = {\"days\": [0, 50, 100, 150, 200], \"counts\": [10, 0, 5, 0, 20]}\n",
    "df = pd.DataFrame(data)\n",
    "\n",
    "with pm.Model() as model:\n",
    "    # Priors\n",
    "    alpha = pm.Normal(\"alpha\", mu=0, sigma=10)\n",
    "    beta = pm.Normal(\"beta\", mu=0, sigma=10)\n",
    "    \n",
    "    # Linear model\n",
    "    lambda_ = pm.math.exp(alpha + beta * df[\"days\"])\n",
    "    \n",
    "    # Likelihood\n",
    "    obs = pm.Poisson(\"obs\", mu=lambda_, observed=df[\"counts\"])\n",
    "    \n",
    "    # Fit model\n",
    "    trace = pm.sample(1000, return_inferencedata=True)\n",
    "    \n",
    "    # Posterior predictive sampling for new data\n",
    "    future_days = np.array([250, 300, 350])\n",
    "    lambda_future = pm.math.exp(alpha + beta * future_days)\n",
    "    future_counts = pm.Poisson.dist(mu=lambda_future).random(size=100)\n",
    "\n",
    "print(future_counts.mean(axis=0))  # Mean predicted values\n"
   ]
  },
  {
   "cell_type": "code",
   "execution_count": null,
   "id": "dd2fc1cd-fe52-4cba-aa6c-d57afdb86488",
   "metadata": {},
   "outputs": [],
   "source": []
  }
 ],
 "metadata": {
  "kernelspec": {
   "display_name": "Python 3 (ipykernel)",
   "language": "python",
   "name": "python3"
  },
  "language_info": {
   "codemirror_mode": {
    "name": "ipython",
    "version": 3
   },
   "file_extension": ".py",
   "mimetype": "text/x-python",
   "name": "python",
   "nbconvert_exporter": "python",
   "pygments_lexer": "ipython3",
   "version": "3.12.3"
  }
 },
 "nbformat": 4,
 "nbformat_minor": 5
}
